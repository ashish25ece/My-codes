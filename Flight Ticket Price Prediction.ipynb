{
 "cells": [
  {
   "cell_type": "markdown",
   "metadata": {},
   "source": [
    "# Flight Ticket Fare Prediction"
   ]
  },
  {
   "cell_type": "code",
   "execution_count": 1,
   "metadata": {},
   "outputs": [],
   "source": [
    "# Importing Libraries\n",
    "\n",
    "import pandas as pd\n",
    "import numpy as np\n",
    "import matplotlib.pyplot as plt\n",
    "import seaborn as sns\n",
    "\n",
    "import warnings\n",
    "warnings.filterwarnings('ignore')"
   ]
  },
  {
   "cell_type": "code",
   "execution_count": 2,
   "metadata": {},
   "outputs": [],
   "source": [
    "# read the excel files\n",
    "\n",
    "data= pd.read_excel(r\"C:\\Users\\Ash\\Desktop\\Data Trained\\Projects\\Projects 11_12_13_14_15_16\\Flight Ticket Fare/Data_Train.xlsx\")"
   ]
  },
  {
   "cell_type": "code",
   "execution_count": 3,
   "metadata": {},
   "outputs": [
    {
     "data": {
      "text/html": [
       "<div>\n",
       "<style scoped>\n",
       "    .dataframe tbody tr th:only-of-type {\n",
       "        vertical-align: middle;\n",
       "    }\n",
       "\n",
       "    .dataframe tbody tr th {\n",
       "        vertical-align: top;\n",
       "    }\n",
       "\n",
       "    .dataframe thead th {\n",
       "        text-align: right;\n",
       "    }\n",
       "</style>\n",
       "<table border=\"1\" class=\"dataframe\">\n",
       "  <thead>\n",
       "    <tr style=\"text-align: right;\">\n",
       "      <th></th>\n",
       "      <th>Airline</th>\n",
       "      <th>Date_of_Journey</th>\n",
       "      <th>Source</th>\n",
       "      <th>Destination</th>\n",
       "      <th>Route</th>\n",
       "      <th>Dep_Time</th>\n",
       "      <th>Arrival_Time</th>\n",
       "      <th>Duration</th>\n",
       "      <th>Total_Stops</th>\n",
       "      <th>Additional_Info</th>\n",
       "      <th>Price</th>\n",
       "    </tr>\n",
       "  </thead>\n",
       "  <tbody>\n",
       "    <tr>\n",
       "      <th>0</th>\n",
       "      <td>IndiGo</td>\n",
       "      <td>24/03/2019</td>\n",
       "      <td>Banglore</td>\n",
       "      <td>New Delhi</td>\n",
       "      <td>BLR → DEL</td>\n",
       "      <td>22:20</td>\n",
       "      <td>01:10 22 Mar</td>\n",
       "      <td>2h 50m</td>\n",
       "      <td>non-stop</td>\n",
       "      <td>No info</td>\n",
       "      <td>3897</td>\n",
       "    </tr>\n",
       "    <tr>\n",
       "      <th>1</th>\n",
       "      <td>Air India</td>\n",
       "      <td>1/05/2019</td>\n",
       "      <td>Kolkata</td>\n",
       "      <td>Banglore</td>\n",
       "      <td>CCU → IXR → BBI → BLR</td>\n",
       "      <td>05:50</td>\n",
       "      <td>13:15</td>\n",
       "      <td>7h 25m</td>\n",
       "      <td>2 stops</td>\n",
       "      <td>No info</td>\n",
       "      <td>7662</td>\n",
       "    </tr>\n",
       "    <tr>\n",
       "      <th>2</th>\n",
       "      <td>Jet Airways</td>\n",
       "      <td>9/06/2019</td>\n",
       "      <td>Delhi</td>\n",
       "      <td>Cochin</td>\n",
       "      <td>DEL → LKO → BOM → COK</td>\n",
       "      <td>09:25</td>\n",
       "      <td>04:25 10 Jun</td>\n",
       "      <td>19h</td>\n",
       "      <td>2 stops</td>\n",
       "      <td>No info</td>\n",
       "      <td>13882</td>\n",
       "    </tr>\n",
       "    <tr>\n",
       "      <th>3</th>\n",
       "      <td>IndiGo</td>\n",
       "      <td>12/05/2019</td>\n",
       "      <td>Kolkata</td>\n",
       "      <td>Banglore</td>\n",
       "      <td>CCU → NAG → BLR</td>\n",
       "      <td>18:05</td>\n",
       "      <td>23:30</td>\n",
       "      <td>5h 25m</td>\n",
       "      <td>1 stop</td>\n",
       "      <td>No info</td>\n",
       "      <td>6218</td>\n",
       "    </tr>\n",
       "    <tr>\n",
       "      <th>4</th>\n",
       "      <td>IndiGo</td>\n",
       "      <td>01/03/2019</td>\n",
       "      <td>Banglore</td>\n",
       "      <td>New Delhi</td>\n",
       "      <td>BLR → NAG → DEL</td>\n",
       "      <td>16:50</td>\n",
       "      <td>21:35</td>\n",
       "      <td>4h 45m</td>\n",
       "      <td>1 stop</td>\n",
       "      <td>No info</td>\n",
       "      <td>13302</td>\n",
       "    </tr>\n",
       "  </tbody>\n",
       "</table>\n",
       "</div>"
      ],
      "text/plain": [
       "       Airline Date_of_Journey    Source Destination                  Route  \\\n",
       "0       IndiGo      24/03/2019  Banglore   New Delhi              BLR → DEL   \n",
       "1    Air India       1/05/2019   Kolkata    Banglore  CCU → IXR → BBI → BLR   \n",
       "2  Jet Airways       9/06/2019     Delhi      Cochin  DEL → LKO → BOM → COK   \n",
       "3       IndiGo      12/05/2019   Kolkata    Banglore        CCU → NAG → BLR   \n",
       "4       IndiGo      01/03/2019  Banglore   New Delhi        BLR → NAG → DEL   \n",
       "\n",
       "  Dep_Time  Arrival_Time Duration Total_Stops Additional_Info  Price  \n",
       "0    22:20  01:10 22 Mar   2h 50m    non-stop         No info   3897  \n",
       "1    05:50         13:15   7h 25m     2 stops         No info   7662  \n",
       "2    09:25  04:25 10 Jun      19h     2 stops         No info  13882  \n",
       "3    18:05         23:30   5h 25m      1 stop         No info   6218  \n",
       "4    16:50         21:35   4h 45m      1 stop         No info  13302  "
      ]
     },
     "execution_count": 3,
     "metadata": {},
     "output_type": "execute_result"
    }
   ],
   "source": [
    "# check the first five sample data \n",
    "\n",
    "data.head()"
   ]
  },
  {
   "cell_type": "code",
   "execution_count": 4,
   "metadata": {},
   "outputs": [
    {
     "name": "stdout",
     "output_type": "stream",
     "text": [
      "<class 'pandas.core.frame.DataFrame'>\n",
      "RangeIndex: 10683 entries, 0 to 10682\n",
      "Data columns (total 11 columns):\n",
      "Airline            10683 non-null object\n",
      "Date_of_Journey    10683 non-null object\n",
      "Source             10683 non-null object\n",
      "Destination        10683 non-null object\n",
      "Route              10682 non-null object\n",
      "Dep_Time           10683 non-null object\n",
      "Arrival_Time       10683 non-null object\n",
      "Duration           10683 non-null object\n",
      "Total_Stops        10682 non-null object\n",
      "Additional_Info    10683 non-null object\n",
      "Price              10683 non-null int64\n",
      "dtypes: int64(1), object(10)\n",
      "memory usage: 918.1+ KB\n"
     ]
    }
   ],
   "source": [
    "#check the info of the data dataset\n",
    "\n",
    "data.info()"
   ]
  },
  {
   "cell_type": "code",
   "execution_count": 5,
   "metadata": {},
   "outputs": [
    {
     "data": {
      "text/plain": [
       "Airline            0\n",
       "Date_of_Journey    0\n",
       "Source             0\n",
       "Destination        0\n",
       "Route              1\n",
       "Dep_Time           0\n",
       "Arrival_Time       0\n",
       "Duration           0\n",
       "Total_Stops        1\n",
       "Additional_Info    0\n",
       "Price              0\n",
       "dtype: int64"
      ]
     },
     "execution_count": 5,
     "metadata": {},
     "output_type": "execute_result"
    }
   ],
   "source": [
    "# checking the null values\n",
    "\n",
    "data.isnull().sum()"
   ]
  },
  {
   "cell_type": "code",
   "execution_count": 6,
   "metadata": {},
   "outputs": [],
   "source": [
    "# Treatment of the Missing Values\n",
    "\n",
    "# Since only two records are having the null values, so we can drop these records\n",
    "\n",
    "data.dropna(inplace=True) "
   ]
  },
  {
   "cell_type": "markdown",
   "metadata": {},
   "source": [
    "### Feature Preprocessing and Feature Engineering"
   ]
  },
  {
   "cell_type": "code",
   "execution_count": 7,
   "metadata": {},
   "outputs": [],
   "source": [
    "# Lets split the feature Date of Journey into Date,Month and Year \n",
    "\n",
    "a=data.Date_of_Journey.str.split('/')\n",
    "data['Date'] = a.str[0].astype(int)\n",
    "data['Month']= a.str[1].astype(int)\n",
    "data['Year'] = a.str[2].astype(int)"
   ]
  },
  {
   "cell_type": "code",
   "execution_count": 8,
   "metadata": {},
   "outputs": [
    {
     "data": {
      "text/html": [
       "<div>\n",
       "<style scoped>\n",
       "    .dataframe tbody tr th:only-of-type {\n",
       "        vertical-align: middle;\n",
       "    }\n",
       "\n",
       "    .dataframe tbody tr th {\n",
       "        vertical-align: top;\n",
       "    }\n",
       "\n",
       "    .dataframe thead th {\n",
       "        text-align: right;\n",
       "    }\n",
       "</style>\n",
       "<table border=\"1\" class=\"dataframe\">\n",
       "  <thead>\n",
       "    <tr style=\"text-align: right;\">\n",
       "      <th></th>\n",
       "      <th>Airline</th>\n",
       "      <th>Date_of_Journey</th>\n",
       "      <th>Source</th>\n",
       "      <th>Destination</th>\n",
       "      <th>Route</th>\n",
       "      <th>Dep_Time</th>\n",
       "      <th>Arrival_Time</th>\n",
       "      <th>Duration</th>\n",
       "      <th>Total_Stops</th>\n",
       "      <th>Additional_Info</th>\n",
       "      <th>Price</th>\n",
       "      <th>Date</th>\n",
       "      <th>Month</th>\n",
       "      <th>Year</th>\n",
       "    </tr>\n",
       "  </thead>\n",
       "  <tbody>\n",
       "    <tr>\n",
       "      <th>0</th>\n",
       "      <td>IndiGo</td>\n",
       "      <td>24/03/2019</td>\n",
       "      <td>Banglore</td>\n",
       "      <td>New Delhi</td>\n",
       "      <td>BLR → DEL</td>\n",
       "      <td>22:20</td>\n",
       "      <td>01:10 22 Mar</td>\n",
       "      <td>2h 50m</td>\n",
       "      <td>non-stop</td>\n",
       "      <td>No info</td>\n",
       "      <td>3897</td>\n",
       "      <td>24</td>\n",
       "      <td>3</td>\n",
       "      <td>2019</td>\n",
       "    </tr>\n",
       "    <tr>\n",
       "      <th>1</th>\n",
       "      <td>Air India</td>\n",
       "      <td>1/05/2019</td>\n",
       "      <td>Kolkata</td>\n",
       "      <td>Banglore</td>\n",
       "      <td>CCU → IXR → BBI → BLR</td>\n",
       "      <td>05:50</td>\n",
       "      <td>13:15</td>\n",
       "      <td>7h 25m</td>\n",
       "      <td>2 stops</td>\n",
       "      <td>No info</td>\n",
       "      <td>7662</td>\n",
       "      <td>1</td>\n",
       "      <td>5</td>\n",
       "      <td>2019</td>\n",
       "    </tr>\n",
       "    <tr>\n",
       "      <th>2</th>\n",
       "      <td>Jet Airways</td>\n",
       "      <td>9/06/2019</td>\n",
       "      <td>Delhi</td>\n",
       "      <td>Cochin</td>\n",
       "      <td>DEL → LKO → BOM → COK</td>\n",
       "      <td>09:25</td>\n",
       "      <td>04:25 10 Jun</td>\n",
       "      <td>19h</td>\n",
       "      <td>2 stops</td>\n",
       "      <td>No info</td>\n",
       "      <td>13882</td>\n",
       "      <td>9</td>\n",
       "      <td>6</td>\n",
       "      <td>2019</td>\n",
       "    </tr>\n",
       "    <tr>\n",
       "      <th>3</th>\n",
       "      <td>IndiGo</td>\n",
       "      <td>12/05/2019</td>\n",
       "      <td>Kolkata</td>\n",
       "      <td>Banglore</td>\n",
       "      <td>CCU → NAG → BLR</td>\n",
       "      <td>18:05</td>\n",
       "      <td>23:30</td>\n",
       "      <td>5h 25m</td>\n",
       "      <td>1 stop</td>\n",
       "      <td>No info</td>\n",
       "      <td>6218</td>\n",
       "      <td>12</td>\n",
       "      <td>5</td>\n",
       "      <td>2019</td>\n",
       "    </tr>\n",
       "    <tr>\n",
       "      <th>4</th>\n",
       "      <td>IndiGo</td>\n",
       "      <td>01/03/2019</td>\n",
       "      <td>Banglore</td>\n",
       "      <td>New Delhi</td>\n",
       "      <td>BLR → NAG → DEL</td>\n",
       "      <td>16:50</td>\n",
       "      <td>21:35</td>\n",
       "      <td>4h 45m</td>\n",
       "      <td>1 stop</td>\n",
       "      <td>No info</td>\n",
       "      <td>13302</td>\n",
       "      <td>1</td>\n",
       "      <td>3</td>\n",
       "      <td>2019</td>\n",
       "    </tr>\n",
       "  </tbody>\n",
       "</table>\n",
       "</div>"
      ],
      "text/plain": [
       "       Airline Date_of_Journey    Source Destination                  Route  \\\n",
       "0       IndiGo      24/03/2019  Banglore   New Delhi              BLR → DEL   \n",
       "1    Air India       1/05/2019   Kolkata    Banglore  CCU → IXR → BBI → BLR   \n",
       "2  Jet Airways       9/06/2019     Delhi      Cochin  DEL → LKO → BOM → COK   \n",
       "3       IndiGo      12/05/2019   Kolkata    Banglore        CCU → NAG → BLR   \n",
       "4       IndiGo      01/03/2019  Banglore   New Delhi        BLR → NAG → DEL   \n",
       "\n",
       "  Dep_Time  Arrival_Time Duration Total_Stops Additional_Info  Price  Date  \\\n",
       "0    22:20  01:10 22 Mar   2h 50m    non-stop         No info   3897    24   \n",
       "1    05:50         13:15   7h 25m     2 stops         No info   7662     1   \n",
       "2    09:25  04:25 10 Jun      19h     2 stops         No info  13882     9   \n",
       "3    18:05         23:30   5h 25m      1 stop         No info   6218    12   \n",
       "4    16:50         21:35   4h 45m      1 stop         No info  13302     1   \n",
       "\n",
       "   Month  Year  \n",
       "0      3  2019  \n",
       "1      5  2019  \n",
       "2      6  2019  \n",
       "3      5  2019  \n",
       "4      3  2019  "
      ]
     },
     "execution_count": 8,
     "metadata": {},
     "output_type": "execute_result"
    }
   ],
   "source": [
    "data.head()"
   ]
  },
  {
   "cell_type": "code",
   "execution_count": 9,
   "metadata": {},
   "outputs": [],
   "source": [
    "# Lets split the feature Dep_Time into Dep_Hours Dep_Mins \n",
    "\n",
    "a=data.Dep_Time.str.split(':')\n",
    "data['Dep_Hours'] = a.str[0].astype(int)\n",
    "data['Dep_Mins']= a.str[1].astype(int)"
   ]
  },
  {
   "cell_type": "code",
   "execution_count": 10,
   "metadata": {},
   "outputs": [
    {
     "data": {
      "text/html": [
       "<div>\n",
       "<style scoped>\n",
       "    .dataframe tbody tr th:only-of-type {\n",
       "        vertical-align: middle;\n",
       "    }\n",
       "\n",
       "    .dataframe tbody tr th {\n",
       "        vertical-align: top;\n",
       "    }\n",
       "\n",
       "    .dataframe thead th {\n",
       "        text-align: right;\n",
       "    }\n",
       "</style>\n",
       "<table border=\"1\" class=\"dataframe\">\n",
       "  <thead>\n",
       "    <tr style=\"text-align: right;\">\n",
       "      <th></th>\n",
       "      <th>Airline</th>\n",
       "      <th>Date_of_Journey</th>\n",
       "      <th>Source</th>\n",
       "      <th>Destination</th>\n",
       "      <th>Route</th>\n",
       "      <th>Dep_Time</th>\n",
       "      <th>Arrival_Time</th>\n",
       "      <th>Duration</th>\n",
       "      <th>Total_Stops</th>\n",
       "      <th>Additional_Info</th>\n",
       "      <th>Price</th>\n",
       "      <th>Date</th>\n",
       "      <th>Month</th>\n",
       "      <th>Year</th>\n",
       "      <th>Dep_Hours</th>\n",
       "      <th>Dep_Mins</th>\n",
       "    </tr>\n",
       "  </thead>\n",
       "  <tbody>\n",
       "    <tr>\n",
       "      <th>0</th>\n",
       "      <td>IndiGo</td>\n",
       "      <td>24/03/2019</td>\n",
       "      <td>Banglore</td>\n",
       "      <td>New Delhi</td>\n",
       "      <td>BLR → DEL</td>\n",
       "      <td>22:20</td>\n",
       "      <td>01:10 22 Mar</td>\n",
       "      <td>2h 50m</td>\n",
       "      <td>non-stop</td>\n",
       "      <td>No info</td>\n",
       "      <td>3897</td>\n",
       "      <td>24</td>\n",
       "      <td>3</td>\n",
       "      <td>2019</td>\n",
       "      <td>22</td>\n",
       "      <td>20</td>\n",
       "    </tr>\n",
       "    <tr>\n",
       "      <th>1</th>\n",
       "      <td>Air India</td>\n",
       "      <td>1/05/2019</td>\n",
       "      <td>Kolkata</td>\n",
       "      <td>Banglore</td>\n",
       "      <td>CCU → IXR → BBI → BLR</td>\n",
       "      <td>05:50</td>\n",
       "      <td>13:15</td>\n",
       "      <td>7h 25m</td>\n",
       "      <td>2 stops</td>\n",
       "      <td>No info</td>\n",
       "      <td>7662</td>\n",
       "      <td>1</td>\n",
       "      <td>5</td>\n",
       "      <td>2019</td>\n",
       "      <td>5</td>\n",
       "      <td>50</td>\n",
       "    </tr>\n",
       "    <tr>\n",
       "      <th>2</th>\n",
       "      <td>Jet Airways</td>\n",
       "      <td>9/06/2019</td>\n",
       "      <td>Delhi</td>\n",
       "      <td>Cochin</td>\n",
       "      <td>DEL → LKO → BOM → COK</td>\n",
       "      <td>09:25</td>\n",
       "      <td>04:25 10 Jun</td>\n",
       "      <td>19h</td>\n",
       "      <td>2 stops</td>\n",
       "      <td>No info</td>\n",
       "      <td>13882</td>\n",
       "      <td>9</td>\n",
       "      <td>6</td>\n",
       "      <td>2019</td>\n",
       "      <td>9</td>\n",
       "      <td>25</td>\n",
       "    </tr>\n",
       "    <tr>\n",
       "      <th>3</th>\n",
       "      <td>IndiGo</td>\n",
       "      <td>12/05/2019</td>\n",
       "      <td>Kolkata</td>\n",
       "      <td>Banglore</td>\n",
       "      <td>CCU → NAG → BLR</td>\n",
       "      <td>18:05</td>\n",
       "      <td>23:30</td>\n",
       "      <td>5h 25m</td>\n",
       "      <td>1 stop</td>\n",
       "      <td>No info</td>\n",
       "      <td>6218</td>\n",
       "      <td>12</td>\n",
       "      <td>5</td>\n",
       "      <td>2019</td>\n",
       "      <td>18</td>\n",
       "      <td>5</td>\n",
       "    </tr>\n",
       "    <tr>\n",
       "      <th>4</th>\n",
       "      <td>IndiGo</td>\n",
       "      <td>01/03/2019</td>\n",
       "      <td>Banglore</td>\n",
       "      <td>New Delhi</td>\n",
       "      <td>BLR → NAG → DEL</td>\n",
       "      <td>16:50</td>\n",
       "      <td>21:35</td>\n",
       "      <td>4h 45m</td>\n",
       "      <td>1 stop</td>\n",
       "      <td>No info</td>\n",
       "      <td>13302</td>\n",
       "      <td>1</td>\n",
       "      <td>3</td>\n",
       "      <td>2019</td>\n",
       "      <td>16</td>\n",
       "      <td>50</td>\n",
       "    </tr>\n",
       "  </tbody>\n",
       "</table>\n",
       "</div>"
      ],
      "text/plain": [
       "       Airline Date_of_Journey    Source Destination                  Route  \\\n",
       "0       IndiGo      24/03/2019  Banglore   New Delhi              BLR → DEL   \n",
       "1    Air India       1/05/2019   Kolkata    Banglore  CCU → IXR → BBI → BLR   \n",
       "2  Jet Airways       9/06/2019     Delhi      Cochin  DEL → LKO → BOM → COK   \n",
       "3       IndiGo      12/05/2019   Kolkata    Banglore        CCU → NAG → BLR   \n",
       "4       IndiGo      01/03/2019  Banglore   New Delhi        BLR → NAG → DEL   \n",
       "\n",
       "  Dep_Time  Arrival_Time Duration Total_Stops Additional_Info  Price  Date  \\\n",
       "0    22:20  01:10 22 Mar   2h 50m    non-stop         No info   3897    24   \n",
       "1    05:50         13:15   7h 25m     2 stops         No info   7662     1   \n",
       "2    09:25  04:25 10 Jun      19h     2 stops         No info  13882     9   \n",
       "3    18:05         23:30   5h 25m      1 stop         No info   6218    12   \n",
       "4    16:50         21:35   4h 45m      1 stop         No info  13302     1   \n",
       "\n",
       "   Month  Year  Dep_Hours  Dep_Mins  \n",
       "0      3  2019         22        20  \n",
       "1      5  2019          5        50  \n",
       "2      6  2019          9        25  \n",
       "3      5  2019         18         5  \n",
       "4      3  2019         16        50  "
      ]
     },
     "execution_count": 10,
     "metadata": {},
     "output_type": "execute_result"
    }
   ],
   "source": [
    "data.head()"
   ]
  },
  {
   "cell_type": "code",
   "execution_count": 11,
   "metadata": {},
   "outputs": [],
   "source": [
    "# Lets split the feature Arrival_Time into Arrival_Hours Arrival_Mins \n",
    "\n",
    "a=data.Arrival_Time.str.split(':')\n",
    "data['Arrival_Hours'] = a.str[0].astype(int)\n",
    "\n",
    "# Since some Arrival_Time contains the date also, so we will drop those dates so that no date will be \n",
    "# consideered in our new feature Arrivale_Mins\n",
    "\n",
    "data['Arrival_Mins']= a.str[1].str.split(' ').str[0].astype(int)"
   ]
  },
  {
   "cell_type": "code",
   "execution_count": 12,
   "metadata": {},
   "outputs": [
    {
     "data": {
      "text/plain": [
       "0"
      ]
     },
     "execution_count": 12,
     "metadata": {},
     "output_type": "execute_result"
    }
   ],
   "source": [
    "data['Arrival_Hours'].isnull().sum()"
   ]
  },
  {
   "cell_type": "code",
   "execution_count": 13,
   "metadata": {},
   "outputs": [
    {
     "data": {
      "text/html": [
       "<div>\n",
       "<style scoped>\n",
       "    .dataframe tbody tr th:only-of-type {\n",
       "        vertical-align: middle;\n",
       "    }\n",
       "\n",
       "    .dataframe tbody tr th {\n",
       "        vertical-align: top;\n",
       "    }\n",
       "\n",
       "    .dataframe thead th {\n",
       "        text-align: right;\n",
       "    }\n",
       "</style>\n",
       "<table border=\"1\" class=\"dataframe\">\n",
       "  <thead>\n",
       "    <tr style=\"text-align: right;\">\n",
       "      <th></th>\n",
       "      <th>Airline</th>\n",
       "      <th>Date_of_Journey</th>\n",
       "      <th>Source</th>\n",
       "      <th>Destination</th>\n",
       "      <th>Route</th>\n",
       "      <th>Dep_Time</th>\n",
       "      <th>Arrival_Time</th>\n",
       "      <th>Duration</th>\n",
       "      <th>Total_Stops</th>\n",
       "      <th>Additional_Info</th>\n",
       "      <th>Price</th>\n",
       "      <th>Date</th>\n",
       "      <th>Month</th>\n",
       "      <th>Year</th>\n",
       "      <th>Dep_Hours</th>\n",
       "      <th>Dep_Mins</th>\n",
       "      <th>Arrival_Hours</th>\n",
       "      <th>Arrival_Mins</th>\n",
       "    </tr>\n",
       "  </thead>\n",
       "  <tbody>\n",
       "    <tr>\n",
       "      <th>0</th>\n",
       "      <td>IndiGo</td>\n",
       "      <td>24/03/2019</td>\n",
       "      <td>Banglore</td>\n",
       "      <td>New Delhi</td>\n",
       "      <td>BLR → DEL</td>\n",
       "      <td>22:20</td>\n",
       "      <td>01:10 22 Mar</td>\n",
       "      <td>2h 50m</td>\n",
       "      <td>non-stop</td>\n",
       "      <td>No info</td>\n",
       "      <td>3897</td>\n",
       "      <td>24</td>\n",
       "      <td>3</td>\n",
       "      <td>2019</td>\n",
       "      <td>22</td>\n",
       "      <td>20</td>\n",
       "      <td>1</td>\n",
       "      <td>10</td>\n",
       "    </tr>\n",
       "    <tr>\n",
       "      <th>1</th>\n",
       "      <td>Air India</td>\n",
       "      <td>1/05/2019</td>\n",
       "      <td>Kolkata</td>\n",
       "      <td>Banglore</td>\n",
       "      <td>CCU → IXR → BBI → BLR</td>\n",
       "      <td>05:50</td>\n",
       "      <td>13:15</td>\n",
       "      <td>7h 25m</td>\n",
       "      <td>2 stops</td>\n",
       "      <td>No info</td>\n",
       "      <td>7662</td>\n",
       "      <td>1</td>\n",
       "      <td>5</td>\n",
       "      <td>2019</td>\n",
       "      <td>5</td>\n",
       "      <td>50</td>\n",
       "      <td>13</td>\n",
       "      <td>15</td>\n",
       "    </tr>\n",
       "    <tr>\n",
       "      <th>2</th>\n",
       "      <td>Jet Airways</td>\n",
       "      <td>9/06/2019</td>\n",
       "      <td>Delhi</td>\n",
       "      <td>Cochin</td>\n",
       "      <td>DEL → LKO → BOM → COK</td>\n",
       "      <td>09:25</td>\n",
       "      <td>04:25 10 Jun</td>\n",
       "      <td>19h</td>\n",
       "      <td>2 stops</td>\n",
       "      <td>No info</td>\n",
       "      <td>13882</td>\n",
       "      <td>9</td>\n",
       "      <td>6</td>\n",
       "      <td>2019</td>\n",
       "      <td>9</td>\n",
       "      <td>25</td>\n",
       "      <td>4</td>\n",
       "      <td>25</td>\n",
       "    </tr>\n",
       "    <tr>\n",
       "      <th>3</th>\n",
       "      <td>IndiGo</td>\n",
       "      <td>12/05/2019</td>\n",
       "      <td>Kolkata</td>\n",
       "      <td>Banglore</td>\n",
       "      <td>CCU → NAG → BLR</td>\n",
       "      <td>18:05</td>\n",
       "      <td>23:30</td>\n",
       "      <td>5h 25m</td>\n",
       "      <td>1 stop</td>\n",
       "      <td>No info</td>\n",
       "      <td>6218</td>\n",
       "      <td>12</td>\n",
       "      <td>5</td>\n",
       "      <td>2019</td>\n",
       "      <td>18</td>\n",
       "      <td>5</td>\n",
       "      <td>23</td>\n",
       "      <td>30</td>\n",
       "    </tr>\n",
       "    <tr>\n",
       "      <th>4</th>\n",
       "      <td>IndiGo</td>\n",
       "      <td>01/03/2019</td>\n",
       "      <td>Banglore</td>\n",
       "      <td>New Delhi</td>\n",
       "      <td>BLR → NAG → DEL</td>\n",
       "      <td>16:50</td>\n",
       "      <td>21:35</td>\n",
       "      <td>4h 45m</td>\n",
       "      <td>1 stop</td>\n",
       "      <td>No info</td>\n",
       "      <td>13302</td>\n",
       "      <td>1</td>\n",
       "      <td>3</td>\n",
       "      <td>2019</td>\n",
       "      <td>16</td>\n",
       "      <td>50</td>\n",
       "      <td>21</td>\n",
       "      <td>35</td>\n",
       "    </tr>\n",
       "  </tbody>\n",
       "</table>\n",
       "</div>"
      ],
      "text/plain": [
       "       Airline Date_of_Journey    Source Destination                  Route  \\\n",
       "0       IndiGo      24/03/2019  Banglore   New Delhi              BLR → DEL   \n",
       "1    Air India       1/05/2019   Kolkata    Banglore  CCU → IXR → BBI → BLR   \n",
       "2  Jet Airways       9/06/2019     Delhi      Cochin  DEL → LKO → BOM → COK   \n",
       "3       IndiGo      12/05/2019   Kolkata    Banglore        CCU → NAG → BLR   \n",
       "4       IndiGo      01/03/2019  Banglore   New Delhi        BLR → NAG → DEL   \n",
       "\n",
       "  Dep_Time  Arrival_Time Duration Total_Stops Additional_Info  Price  Date  \\\n",
       "0    22:20  01:10 22 Mar   2h 50m    non-stop         No info   3897    24   \n",
       "1    05:50         13:15   7h 25m     2 stops         No info   7662     1   \n",
       "2    09:25  04:25 10 Jun      19h     2 stops         No info  13882     9   \n",
       "3    18:05         23:30   5h 25m      1 stop         No info   6218    12   \n",
       "4    16:50         21:35   4h 45m      1 stop         No info  13302     1   \n",
       "\n",
       "   Month  Year  Dep_Hours  Dep_Mins  Arrival_Hours  Arrival_Mins  \n",
       "0      3  2019         22        20              1            10  \n",
       "1      5  2019          5        50             13            15  \n",
       "2      6  2019          9        25              4            25  \n",
       "3      5  2019         18         5             23            30  \n",
       "4      3  2019         16        50             21            35  "
      ]
     },
     "execution_count": 13,
     "metadata": {},
     "output_type": "execute_result"
    }
   ],
   "source": [
    "data.head()"
   ]
  },
  {
   "cell_type": "code",
   "execution_count": 14,
   "metadata": {},
   "outputs": [],
   "source": [
    "# Lets split the feature Duration into Duration_Hours Duration_Mins \n",
    "\n",
    "a=data.Duration.str.split(' ')\n",
    "data['Duration_Hours'] = a.str[0]\n",
    "data['Duration_Hours'] = data['Duration_Hours'].replace(\"h\",\"\",regex=True)\n",
    "\n",
    "data['Duration_Mins']  = a.str[1].replace(\"m\",\"\",regex=True)\n",
    "data['Duration_Mins']  = data['Duration_Mins'].fillna(0)"
   ]
  },
  {
   "cell_type": "code",
   "execution_count": 15,
   "metadata": {},
   "outputs": [],
   "source": [
    "# There is a record in Duration_Hours with 5m value, since it is not possible to have flight duration of only 5 minutes, we will\n",
    "# drop this record\n",
    "\n",
    "data = data[data['Duration_Hours']!='5m']"
   ]
  },
  {
   "cell_type": "code",
   "execution_count": 16,
   "metadata": {},
   "outputs": [],
   "source": [
    "# Lets convert the data type from object to int for Duration_Hours Duration_Mins \n",
    "\n",
    "data['Duration_Hours']= data['Duration_Hours'].astype(int)\n",
    "data['Duration_Mins']= data['Duration_Mins'].astype(int)"
   ]
  },
  {
   "cell_type": "code",
   "execution_count": 17,
   "metadata": {},
   "outputs": [
    {
     "data": {
      "text/plain": [
       "array([ 2,  7, 19,  5,  4, 15, 21, 25, 13, 12, 26, 22, 23, 20, 10,  6, 11,\n",
       "        8, 16,  3, 27,  1, 14,  9, 18, 17, 24, 30, 28, 29, 37, 34, 38, 35,\n",
       "       36, 47, 33, 32, 31, 42, 39, 41, 40], dtype=int64)"
      ]
     },
     "execution_count": 17,
     "metadata": {},
     "output_type": "execute_result"
    }
   ],
   "source": [
    "data['Duration_Hours'].unique()"
   ]
  },
  {
   "cell_type": "code",
   "execution_count": 18,
   "metadata": {
    "scrolled": true
   },
   "outputs": [
    {
     "data": {
      "text/html": [
       "<div>\n",
       "<style scoped>\n",
       "    .dataframe tbody tr th:only-of-type {\n",
       "        vertical-align: middle;\n",
       "    }\n",
       "\n",
       "    .dataframe tbody tr th {\n",
       "        vertical-align: top;\n",
       "    }\n",
       "\n",
       "    .dataframe thead th {\n",
       "        text-align: right;\n",
       "    }\n",
       "</style>\n",
       "<table border=\"1\" class=\"dataframe\">\n",
       "  <thead>\n",
       "    <tr style=\"text-align: right;\">\n",
       "      <th></th>\n",
       "      <th>Airline</th>\n",
       "      <th>Date_of_Journey</th>\n",
       "      <th>Source</th>\n",
       "      <th>Destination</th>\n",
       "      <th>Route</th>\n",
       "      <th>Dep_Time</th>\n",
       "      <th>Arrival_Time</th>\n",
       "      <th>Duration</th>\n",
       "      <th>Total_Stops</th>\n",
       "      <th>Additional_Info</th>\n",
       "      <th>Price</th>\n",
       "      <th>Date</th>\n",
       "      <th>Month</th>\n",
       "      <th>Year</th>\n",
       "      <th>Dep_Hours</th>\n",
       "      <th>Dep_Mins</th>\n",
       "      <th>Arrival_Hours</th>\n",
       "      <th>Arrival_Mins</th>\n",
       "      <th>Duration_Hours</th>\n",
       "      <th>Duration_Mins</th>\n",
       "    </tr>\n",
       "  </thead>\n",
       "  <tbody>\n",
       "    <tr>\n",
       "      <th>0</th>\n",
       "      <td>IndiGo</td>\n",
       "      <td>24/03/2019</td>\n",
       "      <td>Banglore</td>\n",
       "      <td>New Delhi</td>\n",
       "      <td>BLR → DEL</td>\n",
       "      <td>22:20</td>\n",
       "      <td>01:10 22 Mar</td>\n",
       "      <td>2h 50m</td>\n",
       "      <td>non-stop</td>\n",
       "      <td>No info</td>\n",
       "      <td>3897</td>\n",
       "      <td>24</td>\n",
       "      <td>3</td>\n",
       "      <td>2019</td>\n",
       "      <td>22</td>\n",
       "      <td>20</td>\n",
       "      <td>1</td>\n",
       "      <td>10</td>\n",
       "      <td>2</td>\n",
       "      <td>50</td>\n",
       "    </tr>\n",
       "    <tr>\n",
       "      <th>1</th>\n",
       "      <td>Air India</td>\n",
       "      <td>1/05/2019</td>\n",
       "      <td>Kolkata</td>\n",
       "      <td>Banglore</td>\n",
       "      <td>CCU → IXR → BBI → BLR</td>\n",
       "      <td>05:50</td>\n",
       "      <td>13:15</td>\n",
       "      <td>7h 25m</td>\n",
       "      <td>2 stops</td>\n",
       "      <td>No info</td>\n",
       "      <td>7662</td>\n",
       "      <td>1</td>\n",
       "      <td>5</td>\n",
       "      <td>2019</td>\n",
       "      <td>5</td>\n",
       "      <td>50</td>\n",
       "      <td>13</td>\n",
       "      <td>15</td>\n",
       "      <td>7</td>\n",
       "      <td>25</td>\n",
       "    </tr>\n",
       "    <tr>\n",
       "      <th>2</th>\n",
       "      <td>Jet Airways</td>\n",
       "      <td>9/06/2019</td>\n",
       "      <td>Delhi</td>\n",
       "      <td>Cochin</td>\n",
       "      <td>DEL → LKO → BOM → COK</td>\n",
       "      <td>09:25</td>\n",
       "      <td>04:25 10 Jun</td>\n",
       "      <td>19h</td>\n",
       "      <td>2 stops</td>\n",
       "      <td>No info</td>\n",
       "      <td>13882</td>\n",
       "      <td>9</td>\n",
       "      <td>6</td>\n",
       "      <td>2019</td>\n",
       "      <td>9</td>\n",
       "      <td>25</td>\n",
       "      <td>4</td>\n",
       "      <td>25</td>\n",
       "      <td>19</td>\n",
       "      <td>0</td>\n",
       "    </tr>\n",
       "    <tr>\n",
       "      <th>3</th>\n",
       "      <td>IndiGo</td>\n",
       "      <td>12/05/2019</td>\n",
       "      <td>Kolkata</td>\n",
       "      <td>Banglore</td>\n",
       "      <td>CCU → NAG → BLR</td>\n",
       "      <td>18:05</td>\n",
       "      <td>23:30</td>\n",
       "      <td>5h 25m</td>\n",
       "      <td>1 stop</td>\n",
       "      <td>No info</td>\n",
       "      <td>6218</td>\n",
       "      <td>12</td>\n",
       "      <td>5</td>\n",
       "      <td>2019</td>\n",
       "      <td>18</td>\n",
       "      <td>5</td>\n",
       "      <td>23</td>\n",
       "      <td>30</td>\n",
       "      <td>5</td>\n",
       "      <td>25</td>\n",
       "    </tr>\n",
       "    <tr>\n",
       "      <th>4</th>\n",
       "      <td>IndiGo</td>\n",
       "      <td>01/03/2019</td>\n",
       "      <td>Banglore</td>\n",
       "      <td>New Delhi</td>\n",
       "      <td>BLR → NAG → DEL</td>\n",
       "      <td>16:50</td>\n",
       "      <td>21:35</td>\n",
       "      <td>4h 45m</td>\n",
       "      <td>1 stop</td>\n",
       "      <td>No info</td>\n",
       "      <td>13302</td>\n",
       "      <td>1</td>\n",
       "      <td>3</td>\n",
       "      <td>2019</td>\n",
       "      <td>16</td>\n",
       "      <td>50</td>\n",
       "      <td>21</td>\n",
       "      <td>35</td>\n",
       "      <td>4</td>\n",
       "      <td>45</td>\n",
       "    </tr>\n",
       "  </tbody>\n",
       "</table>\n",
       "</div>"
      ],
      "text/plain": [
       "       Airline Date_of_Journey    Source Destination                  Route  \\\n",
       "0       IndiGo      24/03/2019  Banglore   New Delhi              BLR → DEL   \n",
       "1    Air India       1/05/2019   Kolkata    Banglore  CCU → IXR → BBI → BLR   \n",
       "2  Jet Airways       9/06/2019     Delhi      Cochin  DEL → LKO → BOM → COK   \n",
       "3       IndiGo      12/05/2019   Kolkata    Banglore        CCU → NAG → BLR   \n",
       "4       IndiGo      01/03/2019  Banglore   New Delhi        BLR → NAG → DEL   \n",
       "\n",
       "  Dep_Time  Arrival_Time Duration Total_Stops Additional_Info  Price  Date  \\\n",
       "0    22:20  01:10 22 Mar   2h 50m    non-stop         No info   3897    24   \n",
       "1    05:50         13:15   7h 25m     2 stops         No info   7662     1   \n",
       "2    09:25  04:25 10 Jun      19h     2 stops         No info  13882     9   \n",
       "3    18:05         23:30   5h 25m      1 stop         No info   6218    12   \n",
       "4    16:50         21:35   4h 45m      1 stop         No info  13302     1   \n",
       "\n",
       "   Month  Year  Dep_Hours  Dep_Mins  Arrival_Hours  Arrival_Mins  \\\n",
       "0      3  2019         22        20              1            10   \n",
       "1      5  2019          5        50             13            15   \n",
       "2      6  2019          9        25              4            25   \n",
       "3      5  2019         18         5             23            30   \n",
       "4      3  2019         16        50             21            35   \n",
       "\n",
       "   Duration_Hours  Duration_Mins  \n",
       "0               2             50  \n",
       "1               7             25  \n",
       "2              19              0  \n",
       "3               5             25  \n",
       "4               4             45  "
      ]
     },
     "execution_count": 18,
     "metadata": {},
     "output_type": "execute_result"
    }
   ],
   "source": [
    "data.head()"
   ]
  },
  {
   "cell_type": "code",
   "execution_count": 19,
   "metadata": {},
   "outputs": [],
   "source": [
    "# Lets convert the feature Total_stops to numerical values\n",
    "\n",
    "data['Tot_Stops']= data['Total_Stops'].str.split(' ').str[0]\n",
    "data['Tot_Stops']= data['Tot_Stops'].replace(\"non-stop\",0).astype(int)"
   ]
  },
  {
   "cell_type": "code",
   "execution_count": 20,
   "metadata": {},
   "outputs": [],
   "source": [
    "# Lets create a new feature Weekend whose value will be Y if its a weekend else N\n",
    "\n",
    "import datetime as dt\n",
    "\n",
    "data['Date_of_Journey_time']=pd.to_datetime(data['Date_of_Journey'],dayfirst=True)\n",
    "\n",
    "a=[]\n",
    "c=[]\n",
    "a=data['Date_of_Journey_time'].dt.weekday\n",
    "\n",
    "for value in a:\n",
    "    if value > 4:\n",
    "        b='Y'\n",
    "    else:\n",
    "        b='N'\n",
    "    c.append(b)\n",
    "    \n",
    "data['Weekend']=c"
   ]
  },
  {
   "cell_type": "code",
   "execution_count": 21,
   "metadata": {},
   "outputs": [
    {
     "data": {
      "text/plain": [
       "Index(['Airline', 'Date_of_Journey', 'Source', 'Destination', 'Route',\n",
       "       'Dep_Time', 'Arrival_Time', 'Duration', 'Total_Stops',\n",
       "       'Additional_Info', 'Price', 'Date', 'Month', 'Year', 'Dep_Hours',\n",
       "       'Dep_Mins', 'Arrival_Hours', 'Arrival_Mins', 'Duration_Hours',\n",
       "       'Duration_Mins', 'Tot_Stops', 'Date_of_Journey_time', 'Weekend'],\n",
       "      dtype='object')"
      ]
     },
     "execution_count": 21,
     "metadata": {},
     "output_type": "execute_result"
    }
   ],
   "source": [
    "data.columns"
   ]
  },
  {
   "cell_type": "code",
   "execution_count": 22,
   "metadata": {},
   "outputs": [],
   "source": [
    "# Lets drop the unnecessary columns\n",
    "\n",
    "data.drop(labels=['Date_of_Journey','Route','Dep_Time', 'Arrival_Time', 'Duration', \n",
    "                  'Total_Stops','Additional_Info','Date_of_Journey_time','Year']\n",
    "          ,inplace=True,axis=1)"
   ]
  },
  {
   "cell_type": "markdown",
   "metadata": {},
   "source": [
    "### EDA"
   ]
  },
  {
   "cell_type": "code",
   "execution_count": 23,
   "metadata": {},
   "outputs": [
    {
     "data": {
      "text/plain": [
       "<matplotlib.axes._subplots.AxesSubplot at 0xb01f9e7160>"
      ]
     },
     "execution_count": 23,
     "metadata": {},
     "output_type": "execute_result"
    },
    {
     "data": {
      "image/png": "[encoded data removed]",
      "text/plain": [
       "<Figure size 1080x720 with 1 Axes>"
      ]
     },
     "metadata": {
      "needs_background": "light"
     },
     "output_type": "display_data"
    }
   ],
   "source": [
    "# Bivariate Analysis\n",
    "\n",
    "plt.figure(figsize=(15,10))\n",
    "sns.barplot(data=data,y='Airline',x='Price')"
   ]
  },
  {
   "cell_type": "markdown",
   "metadata": {},
   "source": [
    "##### We can observe that the fare of the flight 'Jet Airways Business' is pretty high as compared to other flights"
   ]
  },
  {
   "cell_type": "code",
   "execution_count": 24,
   "metadata": {},
   "outputs": [
    {
     "data": {
      "text/plain": [
       "<matplotlib.axes._subplots.AxesSubplot at 0xb0223c04e0>"
      ]
     },
     "execution_count": 24,
     "metadata": {},
     "output_type": "execute_result"
    },
    {
     "data": {
      "image/png": "[encoded data removed]",
      "text/plain": [
       "<Figure size 576x432 with 1 Axes>"
      ]
     },
     "metadata": {
      "needs_background": "light"
     },
     "output_type": "display_data"
    }
   ],
   "source": [
    "plt.figure(figsize=(8,6))\n",
    "sns.barplot(data=data,y='Source',x='Price')"
   ]
  },
  {
   "cell_type": "markdown",
   "metadata": {},
   "source": [
    "##### We can observe that the fare of the flight departing from 'Delhi' and 'Kolkata' are pretty high as compared to other source destinations."
   ]
  },
  {
   "cell_type": "code",
   "execution_count": 25,
   "metadata": {},
   "outputs": [
    {
     "data": {
      "text/plain": [
       "<matplotlib.axes._subplots.AxesSubplot at 0xb021e17588>"
      ]
     },
     "execution_count": 25,
     "metadata": {},
     "output_type": "execute_result"
    },
    {
     "data": {
      "image/png": "[encoded data removed]",
      "text/plain": [
       "<Figure size 576x432 with 1 Axes>"
      ]
     },
     "metadata": {
      "needs_background": "light"
     },
     "output_type": "display_data"
    }
   ],
   "source": [
    "plt.figure(figsize=(8,6))\n",
    "sns.barplot(data=data,y='Destination',x='Price')"
   ]
  },
  {
   "cell_type": "markdown",
   "metadata": {},
   "source": [
    "##### We can observe that the fare of the flight arriving at 'Delhi' and 'Cochin' are pretty high as compared to other arriving destinations."
   ]
  },
  {
   "cell_type": "code",
   "execution_count": 26,
   "metadata": {
    "scrolled": true
   },
   "outputs": [
    {
     "data": {
      "text/plain": [
       "<matplotlib.axes._subplots.AxesSubplot at 0xb020afe278>"
      ]
     },
     "execution_count": 26,
     "metadata": {},
     "output_type": "execute_result"
    },
    {
     "data": {
      "image/png": "[encoded data removed]",
      "text/plain": [
       "<Figure size 576x432 with 1 Axes>"
      ]
     },
     "metadata": {
      "needs_background": "light"
     },
     "output_type": "display_data"
    }
   ],
   "source": [
    "plt.figure(figsize=(8,6))\n",
    "sns.barplot(data=data,x='Weekend',y='Price')"
   ]
  },
  {
   "cell_type": "markdown",
   "metadata": {},
   "source": [
    "##### We can observe that the fare of the flight is not getting impacted by the fact whether the traveling date is weekend or not."
   ]
  },
  {
   "cell_type": "code",
   "execution_count": 27,
   "metadata": {
    "scrolled": false
   },
   "outputs": [
    {
     "data": {
      "text/plain": [
       "<matplotlib.axes._subplots.AxesSubplot at 0xb021e3a1d0>"
      ]
     },
     "execution_count": 27,
     "metadata": {},
     "output_type": "execute_result"
    },
    {
     "data": {
      "image/png": "[encoded data removed]",
      "text/plain": [
       "<Figure size 720x576 with 2 Axes>"
      ]
     },
     "metadata": {
      "needs_background": "light"
     },
     "output_type": "display_data"
    }
   ],
   "source": [
    "# Lets map the heat map to get the correlation between the target variables and features \n",
    "\n",
    "plt.figure(figsize=(10,8))\n",
    "sns.heatmap(data.corr(),cmap='gist_heat_r',linewidths=0.1,annot=True)"
   ]
  },
  {
   "cell_type": "markdown",
   "metadata": {},
   "source": [
    "##### We can clearly see the Duration_Hours feature has a very postive correlation with the ticket Pricing of the flight."
   ]
  },
  {
   "cell_type": "code",
   "execution_count": 28,
   "metadata": {},
   "outputs": [
    {
     "data": {
      "text/html": [
       "<div>\n",
       "<style scoped>\n",
       "    .dataframe tbody tr th:only-of-type {\n",
       "        vertical-align: middle;\n",
       "    }\n",
       "\n",
       "    .dataframe tbody tr th {\n",
       "        vertical-align: top;\n",
       "    }\n",
       "\n",
       "    .dataframe thead th {\n",
       "        text-align: right;\n",
       "    }\n",
       "</style>\n",
       "<table border=\"1\" class=\"dataframe\">\n",
       "  <thead>\n",
       "    <tr style=\"text-align: right;\">\n",
       "      <th></th>\n",
       "      <th>Airline_Air Asia</th>\n",
       "      <th>Airline_Air India</th>\n",
       "      <th>Airline_GoAir</th>\n",
       "      <th>Airline_IndiGo</th>\n",
       "      <th>Airline_Jet Airways</th>\n",
       "      <th>Airline_Jet Airways Business</th>\n",
       "      <th>Airline_Multiple carriers</th>\n",
       "      <th>Airline_Multiple carriers Premium economy</th>\n",
       "      <th>Airline_SpiceJet</th>\n",
       "      <th>Airline_Trujet</th>\n",
       "      <th>...</th>\n",
       "      <th>Source_Kolkata</th>\n",
       "      <th>Source_Mumbai</th>\n",
       "      <th>Destination_Banglore</th>\n",
       "      <th>Destination_Cochin</th>\n",
       "      <th>Destination_Delhi</th>\n",
       "      <th>Destination_Hyderabad</th>\n",
       "      <th>Destination_Kolkata</th>\n",
       "      <th>Destination_New Delhi</th>\n",
       "      <th>Weekend_N</th>\n",
       "      <th>Weekend_Y</th>\n",
       "    </tr>\n",
       "  </thead>\n",
       "  <tbody>\n",
       "    <tr>\n",
       "      <th>0</th>\n",
       "      <td>0</td>\n",
       "      <td>0</td>\n",
       "      <td>0</td>\n",
       "      <td>1</td>\n",
       "      <td>0</td>\n",
       "      <td>0</td>\n",
       "      <td>0</td>\n",
       "      <td>0</td>\n",
       "      <td>0</td>\n",
       "      <td>0</td>\n",
       "      <td>...</td>\n",
       "      <td>0</td>\n",
       "      <td>0</td>\n",
       "      <td>0</td>\n",
       "      <td>0</td>\n",
       "      <td>0</td>\n",
       "      <td>0</td>\n",
       "      <td>0</td>\n",
       "      <td>1</td>\n",
       "      <td>0</td>\n",
       "      <td>1</td>\n",
       "    </tr>\n",
       "    <tr>\n",
       "      <th>1</th>\n",
       "      <td>0</td>\n",
       "      <td>1</td>\n",
       "      <td>0</td>\n",
       "      <td>0</td>\n",
       "      <td>0</td>\n",
       "      <td>0</td>\n",
       "      <td>0</td>\n",
       "      <td>0</td>\n",
       "      <td>0</td>\n",
       "      <td>0</td>\n",
       "      <td>...</td>\n",
       "      <td>1</td>\n",
       "      <td>0</td>\n",
       "      <td>1</td>\n",
       "      <td>0</td>\n",
       "      <td>0</td>\n",
       "      <td>0</td>\n",
       "      <td>0</td>\n",
       "      <td>0</td>\n",
       "      <td>1</td>\n",
       "      <td>0</td>\n",
       "    </tr>\n",
       "    <tr>\n",
       "      <th>2</th>\n",
       "      <td>0</td>\n",
       "      <td>0</td>\n",
       "      <td>0</td>\n",
       "      <td>0</td>\n",
       "      <td>1</td>\n",
       "      <td>0</td>\n",
       "      <td>0</td>\n",
       "      <td>0</td>\n",
       "      <td>0</td>\n",
       "      <td>0</td>\n",
       "      <td>...</td>\n",
       "      <td>0</td>\n",
       "      <td>0</td>\n",
       "      <td>0</td>\n",
       "      <td>1</td>\n",
       "      <td>0</td>\n",
       "      <td>0</td>\n",
       "      <td>0</td>\n",
       "      <td>0</td>\n",
       "      <td>0</td>\n",
       "      <td>1</td>\n",
       "    </tr>\n",
       "    <tr>\n",
       "      <th>3</th>\n",
       "      <td>0</td>\n",
       "      <td>0</td>\n",
       "      <td>0</td>\n",
       "      <td>1</td>\n",
       "      <td>0</td>\n",
       "      <td>0</td>\n",
       "      <td>0</td>\n",
       "      <td>0</td>\n",
       "      <td>0</td>\n",
       "      <td>0</td>\n",
       "      <td>...</td>\n",
       "      <td>1</td>\n",
       "      <td>0</td>\n",
       "      <td>1</td>\n",
       "      <td>0</td>\n",
       "      <td>0</td>\n",
       "      <td>0</td>\n",
       "      <td>0</td>\n",
       "      <td>0</td>\n",
       "      <td>0</td>\n",
       "      <td>1</td>\n",
       "    </tr>\n",
       "    <tr>\n",
       "      <th>4</th>\n",
       "      <td>0</td>\n",
       "      <td>0</td>\n",
       "      <td>0</td>\n",
       "      <td>1</td>\n",
       "      <td>0</td>\n",
       "      <td>0</td>\n",
       "      <td>0</td>\n",
       "      <td>0</td>\n",
       "      <td>0</td>\n",
       "      <td>0</td>\n",
       "      <td>...</td>\n",
       "      <td>0</td>\n",
       "      <td>0</td>\n",
       "      <td>0</td>\n",
       "      <td>0</td>\n",
       "      <td>0</td>\n",
       "      <td>0</td>\n",
       "      <td>0</td>\n",
       "      <td>1</td>\n",
       "      <td>1</td>\n",
       "      <td>0</td>\n",
       "    </tr>\n",
       "  </tbody>\n",
       "</table>\n",
       "<p>5 rows × 25 columns</p>\n",
       "</div>"
      ],
      "text/plain": [
       "   Airline_Air Asia  Airline_Air India  Airline_GoAir  Airline_IndiGo  \\\n",
       "0                 0                  0              0               1   \n",
       "1                 0                  1              0               0   \n",
       "2                 0                  0              0               0   \n",
       "3                 0                  0              0               1   \n",
       "4                 0                  0              0               1   \n",
       "\n",
       "   Airline_Jet Airways  Airline_Jet Airways Business  \\\n",
       "0                    0                             0   \n",
       "1                    0                             0   \n",
       "2                    1                             0   \n",
       "3                    0                             0   \n",
       "4                    0                             0   \n",
       "\n",
       "   Airline_Multiple carriers  Airline_Multiple carriers Premium economy  \\\n",
       "0                          0                                          0   \n",
       "1                          0                                          0   \n",
       "2                          0                                          0   \n",
       "3                          0                                          0   \n",
       "4                          0                                          0   \n",
       "\n",
       "   Airline_SpiceJet  Airline_Trujet  ...  Source_Kolkata  Source_Mumbai  \\\n",
       "0                 0               0  ...               0              0   \n",
       "1                 0               0  ...               1              0   \n",
       "2                 0               0  ...               0              0   \n",
       "3                 0               0  ...               1              0   \n",
       "4                 0               0  ...               0              0   \n",
       "\n",
       "   Destination_Banglore  Destination_Cochin  Destination_Delhi  \\\n",
       "0                     0                   0                  0   \n",
       "1                     1                   0                  0   \n",
       "2                     0                   1                  0   \n",
       "3                     1                   0                  0   \n",
       "4                     0                   0                  0   \n",
       "\n",
       "   Destination_Hyderabad  Destination_Kolkata  Destination_New Delhi  \\\n",
       "0                      0                    0                      1   \n",
       "1                      0                    0                      0   \n",
       "2                      0                    0                      0   \n",
       "3                      0                    0                      0   \n",
       "4                      0                    0                      1   \n",
       "\n",
       "   Weekend_N  Weekend_Y  \n",
       "0          0          1  \n",
       "1          1          0  \n",
       "2          0          1  \n",
       "3          0          1  \n",
       "4          1          0  \n",
       "\n",
       "[5 rows x 25 columns]"
      ]
     },
     "execution_count": 28,
     "metadata": {},
     "output_type": "execute_result"
    }
   ],
   "source": [
    "# Lets convert the categorical to numerical features using pd.get_dummies\n",
    "\n",
    "data_num = data.drop(labels=['Airline', 'Source', 'Destination','Weekend'],axis=1)\n",
    "data_cat = data[['Airline', 'Source', 'Destination','Weekend']].copy()\n",
    "\n",
    "data_cat = pd.get_dummies(data_cat)\n",
    "data_cat.head()"
   ]
  },
  {
   "cell_type": "code",
   "execution_count": 29,
   "metadata": {},
   "outputs": [
    {
     "data": {
      "text/plain": [
       "(10681, 35)"
      ]
     },
     "execution_count": 29,
     "metadata": {},
     "output_type": "execute_result"
    }
   ],
   "source": [
    "# Lets concat both the cat and numerical features\n",
    "\n",
    "data_final = pd.concat([data_num,data_cat], axis= 1)\n",
    "data_final.shape"
   ]
  },
  {
   "cell_type": "code",
   "execution_count": 30,
   "metadata": {},
   "outputs": [
    {
     "data": {
      "text/plain": [
       "(10681,)"
      ]
     },
     "execution_count": 30,
     "metadata": {},
     "output_type": "execute_result"
    }
   ],
   "source": [
    "# Lets segregate the target and features\n",
    "\n",
    "X = data_final.drop(labels='Price',axis=1)\n",
    "y = data_final['Price']\n",
    "\n",
    "y.shape"
   ]
  },
  {
   "cell_type": "code",
   "execution_count": 31,
   "metadata": {},
   "outputs": [
    {
     "data": {
      "text/plain": [
       "Index(['Airline', 'Source', 'Destination', 'Price', 'Date', 'Month',\n",
       "       'Dep_Hours', 'Dep_Mins', 'Arrival_Hours', 'Arrival_Mins',\n",
       "       'Duration_Hours', 'Duration_Mins', 'Tot_Stops', 'Weekend'],\n",
       "      dtype='object')"
      ]
     },
     "execution_count": 31,
     "metadata": {},
     "output_type": "execute_result"
    }
   ],
   "source": [
    "data.columns"
   ]
  },
  {
   "cell_type": "code",
   "execution_count": 32,
   "metadata": {},
   "outputs": [
    {
     "data": {
      "text/html": [
       "<div>\n",
       "<style scoped>\n",
       "    .dataframe tbody tr th:only-of-type {\n",
       "        vertical-align: middle;\n",
       "    }\n",
       "\n",
       "    .dataframe tbody tr th {\n",
       "        vertical-align: top;\n",
       "    }\n",
       "\n",
       "    .dataframe thead th {\n",
       "        text-align: right;\n",
       "    }\n",
       "</style>\n",
       "<table border=\"1\" class=\"dataframe\">\n",
       "  <thead>\n",
       "    <tr style=\"text-align: right;\">\n",
       "      <th></th>\n",
       "      <th>Date</th>\n",
       "      <th>Month</th>\n",
       "      <th>Dep_Hours</th>\n",
       "      <th>Dep_Mins</th>\n",
       "      <th>Arrival_Hours</th>\n",
       "      <th>Arrival_Mins</th>\n",
       "      <th>Duration_Hours</th>\n",
       "      <th>Duration_Mins</th>\n",
       "      <th>Tot_Stops</th>\n",
       "      <th>Airline_Air Asia</th>\n",
       "      <th>...</th>\n",
       "      <th>Source_Kolkata</th>\n",
       "      <th>Source_Mumbai</th>\n",
       "      <th>Destination_Banglore</th>\n",
       "      <th>Destination_Cochin</th>\n",
       "      <th>Destination_Delhi</th>\n",
       "      <th>Destination_Hyderabad</th>\n",
       "      <th>Destination_Kolkata</th>\n",
       "      <th>Destination_New Delhi</th>\n",
       "      <th>Weekend_N</th>\n",
       "      <th>Weekend_Y</th>\n",
       "    </tr>\n",
       "  </thead>\n",
       "  <tbody>\n",
       "    <tr>\n",
       "      <th>0</th>\n",
       "      <td>1.237192</td>\n",
       "      <td>-1.467619</td>\n",
       "      <td>1.654162</td>\n",
       "      <td>-0.234832</td>\n",
       "      <td>-1.800328</td>\n",
       "      <td>-0.889941</td>\n",
       "      <td>-0.970748</td>\n",
       "      <td>1.278965</td>\n",
       "      <td>-1.220619</td>\n",
       "      <td>-0.175458</td>\n",
       "      <td>...</td>\n",
       "      <td>-0.606305</td>\n",
       "      <td>-0.264016</td>\n",
       "      <td>-0.606305</td>\n",
       "      <td>-0.859163</td>\n",
       "      <td>-0.366532</td>\n",
       "      <td>-0.264016</td>\n",
       "      <td>-0.192329</td>\n",
       "      <td>3.234239</td>\n",
       "      <td>-1.548310</td>\n",
       "      <td>1.548310</td>\n",
       "    </tr>\n",
       "    <tr>\n",
       "      <th>1</th>\n",
       "      <td>-1.475375</td>\n",
       "      <td>0.250165</td>\n",
       "      <td>-1.303018</td>\n",
       "      <td>1.363790</td>\n",
       "      <td>-0.050871</td>\n",
       "      <td>-0.586988</td>\n",
       "      <td>-0.382120</td>\n",
       "      <td>-0.196456</td>\n",
       "      <td>1.741761</td>\n",
       "      <td>-0.175458</td>\n",
       "      <td>...</td>\n",
       "      <td>1.649335</td>\n",
       "      <td>-0.264016</td>\n",
       "      <td>1.649335</td>\n",
       "      <td>-0.859163</td>\n",
       "      <td>-0.366532</td>\n",
       "      <td>-0.264016</td>\n",
       "      <td>-0.192329</td>\n",
       "      <td>-0.309192</td>\n",
       "      <td>0.645865</td>\n",
       "      <td>-0.645865</td>\n",
       "    </tr>\n",
       "    <tr>\n",
       "      <th>2</th>\n",
       "      <td>-0.531874</td>\n",
       "      <td>1.109057</td>\n",
       "      <td>-0.607211</td>\n",
       "      <td>0.031605</td>\n",
       "      <td>-1.362964</td>\n",
       "      <td>0.018919</td>\n",
       "      <td>1.030586</td>\n",
       "      <td>-1.671877</td>\n",
       "      <td>1.741761</td>\n",
       "      <td>-0.175458</td>\n",
       "      <td>...</td>\n",
       "      <td>-0.606305</td>\n",
       "      <td>-0.264016</td>\n",
       "      <td>-0.606305</td>\n",
       "      <td>1.163923</td>\n",
       "      <td>-0.366532</td>\n",
       "      <td>-0.264016</td>\n",
       "      <td>-0.192329</td>\n",
       "      <td>-0.309192</td>\n",
       "      <td>-1.548310</td>\n",
       "      <td>1.548310</td>\n",
       "    </tr>\n",
       "    <tr>\n",
       "      <th>3</th>\n",
       "      <td>-0.178060</td>\n",
       "      <td>0.250165</td>\n",
       "      <td>0.958355</td>\n",
       "      <td>-1.034142</td>\n",
       "      <td>1.407010</td>\n",
       "      <td>0.321872</td>\n",
       "      <td>-0.617571</td>\n",
       "      <td>-0.196456</td>\n",
       "      <td>0.260571</td>\n",
       "      <td>-0.175458</td>\n",
       "      <td>...</td>\n",
       "      <td>1.649335</td>\n",
       "      <td>-0.264016</td>\n",
       "      <td>1.649335</td>\n",
       "      <td>-0.859163</td>\n",
       "      <td>-0.366532</td>\n",
       "      <td>-0.264016</td>\n",
       "      <td>-0.192329</td>\n",
       "      <td>-0.309192</td>\n",
       "      <td>-1.548310</td>\n",
       "      <td>1.548310</td>\n",
       "    </tr>\n",
       "    <tr>\n",
       "      <th>4</th>\n",
       "      <td>-1.475375</td>\n",
       "      <td>-1.467619</td>\n",
       "      <td>0.610452</td>\n",
       "      <td>1.363790</td>\n",
       "      <td>1.115434</td>\n",
       "      <td>0.624825</td>\n",
       "      <td>-0.735297</td>\n",
       "      <td>0.983881</td>\n",
       "      <td>0.260571</td>\n",
       "      <td>-0.175458</td>\n",
       "      <td>...</td>\n",
       "      <td>-0.606305</td>\n",
       "      <td>-0.264016</td>\n",
       "      <td>-0.606305</td>\n",
       "      <td>-0.859163</td>\n",
       "      <td>-0.366532</td>\n",
       "      <td>-0.264016</td>\n",
       "      <td>-0.192329</td>\n",
       "      <td>3.234239</td>\n",
       "      <td>0.645865</td>\n",
       "      <td>-0.645865</td>\n",
       "    </tr>\n",
       "  </tbody>\n",
       "</table>\n",
       "<p>5 rows × 34 columns</p>\n",
       "</div>"
      ],
      "text/plain": [
       "       Date     Month  Dep_Hours  Dep_Mins  Arrival_Hours  Arrival_Mins  \\\n",
       "0  1.237192 -1.467619   1.654162 -0.234832      -1.800328     -0.889941   \n",
       "1 -1.475375  0.250165  -1.303018  1.363790      -0.050871     -0.586988   \n",
       "2 -0.531874  1.109057  -0.607211  0.031605      -1.362964      0.018919   \n",
       "3 -0.178060  0.250165   0.958355 -1.034142       1.407010      0.321872   \n",
       "4 -1.475375 -1.467619   0.610452  1.363790       1.115434      0.624825   \n",
       "\n",
       "   Duration_Hours  Duration_Mins  Tot_Stops  Airline_Air Asia  ...  \\\n",
       "0       -0.970748       1.278965  -1.220619         -0.175458  ...   \n",
       "1       -0.382120      -0.196456   1.741761         -0.175458  ...   \n",
       "2        1.030586      -1.671877   1.741761         -0.175458  ...   \n",
       "3       -0.617571      -0.196456   0.260571         -0.175458  ...   \n",
       "4       -0.735297       0.983881   0.260571         -0.175458  ...   \n",
       "\n",
       "   Source_Kolkata  Source_Mumbai  Destination_Banglore  Destination_Cochin  \\\n",
       "0       -0.606305      -0.264016             -0.606305           -0.859163   \n",
       "1        1.649335      -0.264016              1.649335           -0.859163   \n",
       "2       -0.606305      -0.264016             -0.606305            1.163923   \n",
       "3        1.649335      -0.264016              1.649335           -0.859163   \n",
       "4       -0.606305      -0.264016             -0.606305           -0.859163   \n",
       "\n",
       "   Destination_Delhi  Destination_Hyderabad  Destination_Kolkata  \\\n",
       "0          -0.366532              -0.264016            -0.192329   \n",
       "1          -0.366532              -0.264016            -0.192329   \n",
       "2          -0.366532              -0.264016            -0.192329   \n",
       "3          -0.366532              -0.264016            -0.192329   \n",
       "4          -0.366532              -0.264016            -0.192329   \n",
       "\n",
       "   Destination_New Delhi  Weekend_N  Weekend_Y  \n",
       "0               3.234239  -1.548310   1.548310  \n",
       "1              -0.309192   0.645865  -0.645865  \n",
       "2              -0.309192  -1.548310   1.548310  \n",
       "3              -0.309192  -1.548310   1.548310  \n",
       "4               3.234239   0.645865  -0.645865  \n",
       "\n",
       "[5 rows x 34 columns]"
      ]
     },
     "execution_count": 32,
     "metadata": {},
     "output_type": "execute_result"
    }
   ],
   "source": [
    "# Scaling the features\n",
    "\n",
    "from sklearn.preprocessing import StandardScaler\n",
    "\n",
    "sc = StandardScaler()\n",
    "X_scaled = sc.fit_transform(X)\n",
    "\n",
    "X = pd.DataFrame(X_scaled,columns=X.columns)\n",
    "X.head()"
   ]
  },
  {
   "cell_type": "code",
   "execution_count": 33,
   "metadata": {},
   "outputs": [
    {
     "data": {
      "text/plain": [
       "(10681, 33)"
      ]
     },
     "execution_count": 33,
     "metadata": {},
     "output_type": "execute_result"
    }
   ],
   "source": [
    "# Since Airline Trujet is not in the test dataset we will drop this feature\n",
    "\n",
    "X= X.drop(labels='Airline_Trujet',axis=1)\n",
    "X.shape"
   ]
  },
  {
   "cell_type": "code",
   "execution_count": 34,
   "metadata": {},
   "outputs": [],
   "source": [
    "# Segregate the data set into train and test set\n",
    "\n",
    "from sklearn.model_selection import train_test_split\n",
    "\n",
    "train_X,test_X,train_y,test_y = train_test_split(X,y,test_size=0.3,random_state=42)"
   ]
  },
  {
   "cell_type": "markdown",
   "metadata": {},
   "source": [
    "## Linear Regression"
   ]
  },
  {
   "cell_type": "code",
   "execution_count": 35,
   "metadata": {},
   "outputs": [
    {
     "data": {
      "text/plain": [
       "LinearRegression(copy_X=True, fit_intercept=True, n_jobs=None,\n",
       "         normalize=False)"
      ]
     },
     "execution_count": 35,
     "metadata": {},
     "output_type": "execute_result"
    }
   ],
   "source": [
    "from sklearn.metrics import mean_squared_error\n",
    "from sklearn.linear_model import LinearRegression\n",
    "\n",
    "lr = LinearRegression()\n",
    "lr.fit(train_X,train_y)"
   ]
  },
  {
   "cell_type": "code",
   "execution_count": 36,
   "metadata": {},
   "outputs": [
    {
     "name": "stdout",
     "output_type": "stream",
     "text": [
      "Linear Model on the train set :\n",
      "Mean Squared Error: 8221088.84\n",
      "Root Mean Squared Error: 2867.24\n"
     ]
    }
   ],
   "source": [
    "# Lets calculate the score on the train set\n",
    "\n",
    "lr_predicted_train = lr.predict(train_X)\n",
    "lr_score_train = mean_squared_error(train_y,lr_predicted_train)\n",
    "\n",
    "print ('Linear Model on the train set :')\n",
    "print ('Mean Squared Error: %.2f' %(lr_score_train))\n",
    "print ('Root Mean Squared Error: %.2f' %((np.sqrt(lr_score_train))))"
   ]
  },
  {
   "cell_type": "code",
   "execution_count": 37,
   "metadata": {},
   "outputs": [
    {
     "name": "stdout",
     "output_type": "stream",
     "text": [
      "Linear Model on the train set :\n",
      "Mean Squared Error: 7508332.17\n",
      "Root Mean Squared Error: 2740.13\n"
     ]
    }
   ],
   "source": [
    "# Lets calculate the score on the train set\n",
    "\n",
    "lr_predicted_test = lr.predict(test_X)\n",
    "lr_score_test = mean_squared_error(test_y,lr_predicted_test)\n",
    "\n",
    "print ('Linear Model on the train set :')\n",
    "print ('Mean Squared Error: %.2f' %(lr_score_test))\n",
    "print ('Root Mean Squared Error: %.2f' %((np.sqrt(lr_score_test))))"
   ]
  },
  {
   "cell_type": "markdown",
   "metadata": {},
   "source": [
    "## Implementing the XG Boosting "
   ]
  },
  {
   "cell_type": "code",
   "execution_count": 38,
   "metadata": {},
   "outputs": [
    {
     "name": "stdout",
     "output_type": "stream",
     "text": [
      "Requirement already satisfied: xgboost in e:\\users\\ash\\anaconda3\\lib\\site-packages (0.90)\n",
      "Requirement already satisfied: scipy in e:\\users\\ash\\anaconda3\\lib\\site-packages (from xgboost) (1.2.1)\n",
      "Requirement already satisfied: numpy in e:\\users\\ash\\anaconda3\\lib\\site-packages (from xgboost) (1.16.2)\n",
      "Note: you may need to restart the kernel to use updated packages.\n"
     ]
    }
   ],
   "source": [
    "pip install xgboost"
   ]
  },
  {
   "cell_type": "code",
   "execution_count": 39,
   "metadata": {},
   "outputs": [],
   "source": [
    "import xgboost as xgb\n",
    "\n",
    "xgb_reg = xgb.XGBRegressor(max_depth=7,learning_rate=0.099,n_estimators=200,objective='reg:linear',colsample_bytree=0.7,\n",
    "                           reg_alpha=10,subsample=1,random_state=42)"
   ]
  },
  {
   "cell_type": "code",
   "execution_count": 40,
   "metadata": {},
   "outputs": [
    {
     "name": "stdout",
     "output_type": "stream",
     "text": [
      "[00:15:15] WARNING: C:/Jenkins/workspace/xgboost-win64_release_0.90/src/objective/regression_obj.cu:152: reg:linear is now deprecated in favor of reg:squarederror.\n"
     ]
    },
    {
     "data": {
      "text/plain": [
       "XGBRegressor(base_score=0.5, booster='gbtree', colsample_bylevel=1,\n",
       "       colsample_bynode=1, colsample_bytree=0.7, gamma=0,\n",
       "       importance_type='gain', learning_rate=0.099, max_delta_step=0,\n",
       "       max_depth=7, min_child_weight=1, missing=None, n_estimators=200,\n",
       "       n_jobs=1, nthread=None, objective='reg:linear', random_state=42,\n",
       "       reg_alpha=10, reg_lambda=1, scale_pos_weight=1, seed=None,\n",
       "       silent=None, subsample=1, verbosity=1)"
      ]
     },
     "execution_count": 40,
     "metadata": {},
     "output_type": "execute_result"
    }
   ],
   "source": [
    "xgb_reg.fit(train_X,train_y)"
   ]
  },
  {
   "cell_type": "code",
   "execution_count": 41,
   "metadata": {},
   "outputs": [
    {
     "name": "stdout",
     "output_type": "stream",
     "text": [
      "XG Boosting Regression Model :\n",
      "Mean Squared Error: 2579881.23\n",
      "Root Mean Squared Error: 1606.20\n"
     ]
    }
   ],
   "source": [
    "xgb_predicted = xgb_reg.predict(test_X)\n",
    "xgb_score = mean_squared_error(test_y,xgb_predicted)\n",
    "\n",
    "print ('XG Boosting Regression Model :')\n",
    "print ('Mean Squared Error: %.2f' %(xgb_score))\n",
    "print ('Root Mean Squared Error: %.2f' %((np.sqrt(xgb_score))))"
   ]
  },
  {
   "cell_type": "markdown",
   "metadata": {},
   "source": [
    "## XG Boost Algorithm to predict the price of flight ticket for test set"
   ]
  },
  {
   "cell_type": "code",
   "execution_count": 42,
   "metadata": {},
   "outputs": [],
   "source": [
    "# read the test excel files\n",
    "\n",
    "data_test= pd.read_excel(r\"C:\\Users\\Ash\\Desktop\\Data Trained\\Projects\\Projects 11_12_13_14_15_16\\Flight Ticket Fare/Test_set.xlsx\")"
   ]
  },
  {
   "cell_type": "code",
   "execution_count": 43,
   "metadata": {},
   "outputs": [
    {
     "data": {
      "text/plain": [
       "Airline            0\n",
       "Date_of_Journey    0\n",
       "Source             0\n",
       "Destination        0\n",
       "Route              0\n",
       "Dep_Time           0\n",
       "Arrival_Time       0\n",
       "Duration           0\n",
       "Total_Stops        0\n",
       "Additional_Info    0\n",
       "dtype: int64"
      ]
     },
     "execution_count": 43,
     "metadata": {},
     "output_type": "execute_result"
    }
   ],
   "source": [
    "# checking the null values\n",
    "\n",
    "data_test.isnull().sum()"
   ]
  },
  {
   "cell_type": "code",
   "execution_count": 44,
   "metadata": {},
   "outputs": [],
   "source": [
    "# Lets split the feature Date of Journey into Date,Month and Year \n",
    "\n",
    "a=data_test.Date_of_Journey.str.split('/')\n",
    "data_test['Date'] = a.str[0].astype(int)\n",
    "data_test['Month']= a.str[1].astype(int)\n",
    "data_test['Year'] = a.str[2].astype(int)\n",
    "\n",
    "# Lets split the feature Dep_Time into Dep_Hours Dep_Mins \n",
    "\n",
    "a=data_test.Dep_Time.str.split(':')\n",
    "data_test['Dep_Hours'] = a.str[0].astype(int)\n",
    "data_test['Dep_Mins']= a.str[1].astype(int)\n",
    "\n",
    "# Lets split the feature Arrival_Time into Arrival_Hours Arrival_Mins \n",
    "\n",
    "a=data_test.Arrival_Time.str.split(':')\n",
    "data_test['Arrival_Hours'] = a.str[0].astype(int)\n",
    "\n",
    "# Since some Arrival_Time contains the date also, so we will drop those dates so that no date will be \n",
    "# consideered in our new feature Arrivale_Mins\n",
    "\n",
    "data_test['Arrival_Mins']= a.str[1].str.split(' ').str[0].astype(int)\n",
    "\n",
    "# Lets split the feature Duration into Duration_Hours Duration_Mins \n",
    "\n",
    "a=data_test.Duration.str.split(' ')\n",
    "data_test['Duration_Hours'] = a.str[0]\n",
    "data_test['Duration_Hours'] = data_test['Duration_Hours'].replace(\"h\",\"\",regex=True)\n",
    "\n",
    "data_test['Duration_Mins']  = a.str[1].replace(\"m\",\"\",regex=True)\n",
    "data_test['Duration_Mins']  = data_test['Duration_Mins'].fillna(0)\n",
    "\n",
    "# There is a record in Duration_Hours with 5m value, since it is not possible to have flight duration of only 5 minutes, we will\n",
    "# drop this record\n",
    "\n",
    "data_test = data_test[data_test['Duration_Hours']!='5m']\n",
    "\n",
    "# Lets convert the data_test type from object to int for Duration_Hours Duration_Mins \n",
    "\n",
    "data_test['Duration_Hours']= data_test['Duration_Hours'].astype(int)\n",
    "data_test['Duration_Mins']= data_test['Duration_Mins'].astype(int)\n",
    "\n",
    "# Lets convert the feature Total_stops to numerical values\n",
    "\n",
    "data_test['Tot_Stops']= data_test['Total_Stops'].str.split(' ').str[0]\n",
    "data_test['Tot_Stops']= data_test['Tot_Stops'].replace(\"non-stop\",0).astype(int)\n",
    "\n",
    "# Lets create a new feature Weekend whose value will be Y if its a weekend else N\n",
    "\n",
    "import datetime as dt\n",
    "\n",
    "data_test['Date_of_Journey_time']=pd.to_datetime(data_test['Date_of_Journey'],dayfirst=True)\n",
    "\n",
    "a=[]\n",
    "c=[]\n",
    "a=data_test['Date_of_Journey_time'].dt.weekday\n",
    "\n",
    "for value in a:\n",
    "    if value > 4:\n",
    "        b='Y'\n",
    "    else:\n",
    "        b='N'\n",
    "    c.append(b)\n",
    "    \n",
    "data_test['Weekend']=c\n",
    "\n",
    "# Lets drop the unnecessary columns\n",
    "\n",
    "data_test.drop(labels=['Date_of_Journey','Route','Dep_Time', 'Arrival_Time', 'Duration', \n",
    "                  'Total_Stops','Additional_Info','Date_of_Journey_time','Year']\n",
    "          ,inplace=True,axis=1)\n",
    "\n",
    "# Lets convert the categorical to numerical features using pd.get_dummies\n",
    "\n",
    "data_test_num = data_test.drop(labels=['Airline', 'Source', 'Destination','Weekend'],axis=1)\n",
    "data_test_cat = data_test[['Airline', 'Source', 'Destination','Weekend']].copy()\n",
    "\n",
    "data_test_cat = pd.get_dummies(data_test_cat)\n",
    "\n",
    "# Lets concat both the cat and numerical features\n",
    "\n",
    "data_test_final = pd.concat([data_test_num,data_test_cat], axis= 1)\n",
    "data_test_final.shape\n",
    "\n",
    "# Lets segregate the target and features\n",
    "\n",
    "X = data_test_final\n",
    "\n",
    "# Scaling the features\n",
    "\n",
    "from sklearn.preprocessing import StandardScaler\n",
    "\n",
    "sc = StandardScaler()\n",
    "X_scaled = sc.fit_transform(X)\n",
    "\n",
    "X = pd.DataFrame(X_scaled,columns=X.columns)\n"
   ]
  },
  {
   "cell_type": "code",
   "execution_count": 45,
   "metadata": {},
   "outputs": [
    {
     "data": {
      "text/html": [
       "<div>\n",
       "<style scoped>\n",
       "    .dataframe tbody tr th:only-of-type {\n",
       "        vertical-align: middle;\n",
       "    }\n",
       "\n",
       "    .dataframe tbody tr th {\n",
       "        vertical-align: top;\n",
       "    }\n",
       "\n",
       "    .dataframe thead th {\n",
       "        text-align: right;\n",
       "    }\n",
       "</style>\n",
       "<table border=\"1\" class=\"dataframe\">\n",
       "  <thead>\n",
       "    <tr style=\"text-align: right;\">\n",
       "      <th></th>\n",
       "      <th>Date</th>\n",
       "      <th>Month</th>\n",
       "      <th>Dep_Hours</th>\n",
       "      <th>Dep_Mins</th>\n",
       "      <th>Arrival_Hours</th>\n",
       "      <th>Arrival_Mins</th>\n",
       "      <th>Duration_Hours</th>\n",
       "      <th>Duration_Mins</th>\n",
       "      <th>Tot_Stops</th>\n",
       "      <th>Airline_Air Asia</th>\n",
       "      <th>...</th>\n",
       "      <th>Source_Kolkata</th>\n",
       "      <th>Source_Mumbai</th>\n",
       "      <th>Destination_Banglore</th>\n",
       "      <th>Destination_Cochin</th>\n",
       "      <th>Destination_Delhi</th>\n",
       "      <th>Destination_Hyderabad</th>\n",
       "      <th>Destination_Kolkata</th>\n",
       "      <th>Destination_New Delhi</th>\n",
       "      <th>Weekend_N</th>\n",
       "      <th>Weekend_Y</th>\n",
       "    </tr>\n",
       "  </thead>\n",
       "  <tbody>\n",
       "    <tr>\n",
       "      <th>0</th>\n",
       "      <td>-0.837219</td>\n",
       "      <td>1.094432</td>\n",
       "      <td>0.773395</td>\n",
       "      <td>0.268233</td>\n",
       "      <td>-1.361355</td>\n",
       "      <td>0.027031</td>\n",
       "      <td>-0.022994</td>\n",
       "      <td>1.588483</td>\n",
       "      <td>0.248597</td>\n",
       "      <td>-0.182433</td>\n",
       "      <td>...</td>\n",
       "      <td>-0.601868</td>\n",
       "      <td>-0.272849</td>\n",
       "      <td>-0.601868</td>\n",
       "      <td>1.154070</td>\n",
       "      <td>-0.367044</td>\n",
       "      <td>-0.272849</td>\n",
       "      <td>-0.170005</td>\n",
       "      <td>-0.312829</td>\n",
       "      <td>0.655238</td>\n",
       "      <td>-0.655238</td>\n",
       "    </tr>\n",
       "    <tr>\n",
       "      <th>1</th>\n",
       "      <td>-0.110898</td>\n",
       "      <td>0.240007</td>\n",
       "      <td>-1.161081</td>\n",
       "      <td>-0.255867</td>\n",
       "      <td>-0.509112</td>\n",
       "      <td>-0.271208</td>\n",
       "      <td>-0.738271</td>\n",
       "      <td>-1.696761</td>\n",
       "      <td>0.248597</td>\n",
       "      <td>-0.182433</td>\n",
       "      <td>...</td>\n",
       "      <td>1.661494</td>\n",
       "      <td>-0.272849</td>\n",
       "      <td>1.661494</td>\n",
       "      <td>-0.866499</td>\n",
       "      <td>-0.367044</td>\n",
       "      <td>-0.272849</td>\n",
       "      <td>-0.170005</td>\n",
       "      <td>-0.312829</td>\n",
       "      <td>-1.526164</td>\n",
       "      <td>1.526164</td>\n",
       "    </tr>\n",
       "    <tr>\n",
       "      <th>2</th>\n",
       "      <td>0.978584</td>\n",
       "      <td>0.240007</td>\n",
       "      <td>1.125118</td>\n",
       "      <td>-0.517917</td>\n",
       "      <td>0.769254</td>\n",
       "      <td>-1.464163</td>\n",
       "      <td>1.526771</td>\n",
       "      <td>0.991166</td>\n",
       "      <td>0.248597</td>\n",
       "      <td>-0.182433</td>\n",
       "      <td>...</td>\n",
       "      <td>-0.601868</td>\n",
       "      <td>-0.272849</td>\n",
       "      <td>-0.601868</td>\n",
       "      <td>1.154070</td>\n",
       "      <td>-0.367044</td>\n",
       "      <td>-0.272849</td>\n",
       "      <td>-0.170005</td>\n",
       "      <td>-0.312829</td>\n",
       "      <td>0.655238</td>\n",
       "      <td>-0.655238</td>\n",
       "    </tr>\n",
       "    <tr>\n",
       "      <th>3</th>\n",
       "      <td>0.978584</td>\n",
       "      <td>0.240007</td>\n",
       "      <td>-0.809358</td>\n",
       "      <td>-1.304066</td>\n",
       "      <td>1.053335</td>\n",
       "      <td>-1.464163</td>\n",
       "      <td>0.334644</td>\n",
       "      <td>-1.696761</td>\n",
       "      <td>0.248597</td>\n",
       "      <td>-0.182433</td>\n",
       "      <td>...</td>\n",
       "      <td>-0.601868</td>\n",
       "      <td>-0.272849</td>\n",
       "      <td>-0.601868</td>\n",
       "      <td>1.154070</td>\n",
       "      <td>-0.367044</td>\n",
       "      <td>-0.272849</td>\n",
       "      <td>-0.170005</td>\n",
       "      <td>-0.312829</td>\n",
       "      <td>0.655238</td>\n",
       "      <td>-0.655238</td>\n",
       "    </tr>\n",
       "    <tr>\n",
       "      <th>4</th>\n",
       "      <td>1.341745</td>\n",
       "      <td>1.094432</td>\n",
       "      <td>1.828564</td>\n",
       "      <td>1.578483</td>\n",
       "      <td>-1.645436</td>\n",
       "      <td>1.219987</td>\n",
       "      <td>-0.976696</td>\n",
       "      <td>1.289825</td>\n",
       "      <td>-1.239640</td>\n",
       "      <td>5.481470</td>\n",
       "      <td>...</td>\n",
       "      <td>-0.601868</td>\n",
       "      <td>-0.272849</td>\n",
       "      <td>-0.601868</td>\n",
       "      <td>-0.866499</td>\n",
       "      <td>2.724466</td>\n",
       "      <td>-0.272849</td>\n",
       "      <td>-0.170005</td>\n",
       "      <td>-0.312829</td>\n",
       "      <td>0.655238</td>\n",
       "      <td>-0.655238</td>\n",
       "    </tr>\n",
       "  </tbody>\n",
       "</table>\n",
       "<p>5 rows × 33 columns</p>\n",
       "</div>"
      ],
      "text/plain": [
       "       Date     Month  Dep_Hours  Dep_Mins  Arrival_Hours  Arrival_Mins  \\\n",
       "0 -0.837219  1.094432   0.773395  0.268233      -1.361355      0.027031   \n",
       "1 -0.110898  0.240007  -1.161081 -0.255867      -0.509112     -0.271208   \n",
       "2  0.978584  0.240007   1.125118 -0.517917       0.769254     -1.464163   \n",
       "3  0.978584  0.240007  -0.809358 -1.304066       1.053335     -1.464163   \n",
       "4  1.341745  1.094432   1.828564  1.578483      -1.645436      1.219987   \n",
       "\n",
       "   Duration_Hours  Duration_Mins  Tot_Stops  Airline_Air Asia  ...  \\\n",
       "0       -0.022994       1.588483   0.248597         -0.182433  ...   \n",
       "1       -0.738271      -1.696761   0.248597         -0.182433  ...   \n",
       "2        1.526771       0.991166   0.248597         -0.182433  ...   \n",
       "3        0.334644      -1.696761   0.248597         -0.182433  ...   \n",
       "4       -0.976696       1.289825  -1.239640          5.481470  ...   \n",
       "\n",
       "   Source_Kolkata  Source_Mumbai  Destination_Banglore  Destination_Cochin  \\\n",
       "0       -0.601868      -0.272849             -0.601868            1.154070   \n",
       "1        1.661494      -0.272849              1.661494           -0.866499   \n",
       "2       -0.601868      -0.272849             -0.601868            1.154070   \n",
       "3       -0.601868      -0.272849             -0.601868            1.154070   \n",
       "4       -0.601868      -0.272849             -0.601868           -0.866499   \n",
       "\n",
       "   Destination_Delhi  Destination_Hyderabad  Destination_Kolkata  \\\n",
       "0          -0.367044              -0.272849            -0.170005   \n",
       "1          -0.367044              -0.272849            -0.170005   \n",
       "2          -0.367044              -0.272849            -0.170005   \n",
       "3          -0.367044              -0.272849            -0.170005   \n",
       "4           2.724466              -0.272849            -0.170005   \n",
       "\n",
       "   Destination_New Delhi  Weekend_N  Weekend_Y  \n",
       "0              -0.312829   0.655238  -0.655238  \n",
       "1              -0.312829  -1.526164   1.526164  \n",
       "2              -0.312829   0.655238  -0.655238  \n",
       "3              -0.312829   0.655238  -0.655238  \n",
       "4              -0.312829   0.655238  -0.655238  \n",
       "\n",
       "[5 rows x 33 columns]"
      ]
     },
     "execution_count": 45,
     "metadata": {},
     "output_type": "execute_result"
    }
   ],
   "source": [
    "X.head()"
   ]
  },
  {
   "cell_type": "code",
   "execution_count": 46,
   "metadata": {},
   "outputs": [
    {
     "data": {
      "text/plain": [
       "array([11648.244 ,  4220.9395, 14271.397 , ..., 15728.744 , 12362.177 ,\n",
       "        8028.9014], dtype=float32)"
      ]
     },
     "execution_count": 46,
     "metadata": {},
     "output_type": "execute_result"
    }
   ],
   "source": [
    "# Predicting the fees for the data_test using XGB Regressor\n",
    "\n",
    "xgb_predicted_test = xgb_reg.predict(X)\n",
    "xgb_predicted_test"
   ]
  },
  {
   "cell_type": "code",
   "execution_count": 47,
   "metadata": {},
   "outputs": [],
   "source": [
    "data_test['Price']=pd.DataFrame(xgb_predicted_test)"
   ]
  },
  {
   "cell_type": "code",
   "execution_count": 48,
   "metadata": {},
   "outputs": [],
   "source": [
    "data_test.to_excel(r\"C:\\Users\\Ash\\Desktop\\Data Trained\\Projects\\Projects 11_12_13_14_15_16/myFlightPricePrediction.xlsx\")"
   ]
  }
 ],
 "metadata": {
  "kernelspec": {
   "display_name": "Python 3",
   "language": "python",
   "name": "python3"
  },
  "language_info": {
   "codemirror_mode": {
    "name": "ipython",
    "version": 3
   },
   "file_extension": ".py",
   "mimetype": "text/x-python",
   "name": "python",
   "nbconvert_exporter": "python",
   "pygments_lexer": "ipython3",
   "version": "3.7.3"
  }
 },
 "nbformat": 4,
 "nbformat_minor": 2
}
